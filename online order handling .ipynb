{
 "cells": [
  {
   "cell_type": "markdown",
   "id": "2b5e394e",
   "metadata": {},
   "source": [
    "itrable = container \n",
    "itrater = intrate over the itrable usin the next function "
   ]
  },
  {
   "cell_type": "raw",
   "id": "8bf4063b",
   "metadata": {},
   "source": [
    "# function for code resuability \n",
    "print and return the print print the value and return the result or any paramert back after calling the funceiton \n"
   ]
  },
  {
   "cell_type": "code",
   "execution_count": null,
   "id": "9fbd694a",
   "metadata": {},
   "outputs": [],
   "source": [
    "# practice for the function and project is at end 137 cell"
   ]
  },
  {
   "cell_type": "code",
   "execution_count": 1,
   "id": "61158970",
   "metadata": {},
   "outputs": [],
   "source": [
    "def total_cost(x,y):\n",
    "    return(x*y)"
   ]
  },
  {
   "cell_type": "code",
   "execution_count": 3,
   "id": "eaf3b1ff",
   "metadata": {},
   "outputs": [],
   "source": [
    "total_checkout = total_cost(40,9)"
   ]
  },
  {
   "cell_type": "raw",
   "id": "a52e4dbe",
   "metadata": {},
   "source": [
    "genrating a sequence of number "
   ]
  },
  {
   "cell_type": "raw",
   "id": "d5163b18",
   "metadata": {},
   "source": []
  },
  {
   "cell_type": "code",
   "execution_count": 4,
   "id": "7b389c4d",
   "metadata": {},
   "outputs": [],
   "source": [
    "def number_sequence(n):\n",
    "    for i in range(n):\n",
    "        yield(i)# this will creat an object and hence it have less memory "
   ]
  },
  {
   "cell_type": "code",
   "execution_count": 5,
   "id": "88a859fd",
   "metadata": {},
   "outputs": [
    {
     "data": {
      "text/plain": [
       "<generator object number_sequence at 0x00000246EEF120B0>"
      ]
     },
     "execution_count": 5,
     "metadata": {},
     "output_type": "execute_result"
    }
   ],
   "source": [
    "number_sequence(6)"
   ]
  },
  {
   "cell_type": "code",
   "execution_count": 6,
   "id": "b362cbac",
   "metadata": {},
   "outputs": [
    {
     "name": "stdout",
     "output_type": "stream",
     "text": [
      "[0, 1, 2, 3, 4]\n"
     ]
    }
   ],
   "source": [
    "seq_gen = number_sequence(5)\n",
    "print(list(seq_gen))"
   ]
  },
  {
   "cell_type": "code",
   "execution_count": 7,
   "id": "cc5cc83a",
   "metadata": {},
   "outputs": [],
   "source": [
    "import random "
   ]
  },
  {
   "cell_type": "code",
   "execution_count": 8,
   "id": "a747afb2",
   "metadata": {},
   "outputs": [],
   "source": [
    "def ramdom_num_ggenrator():\n",
    "    while True:\n",
    "        yield random.randint(1,100)"
   ]
  },
  {
   "cell_type": "code",
   "execution_count": 11,
   "id": "59750534",
   "metadata": {},
   "outputs": [
    {
     "data": {
      "text/plain": [
       "[1, 73, 36, 67, 72]"
      ]
     },
     "execution_count": 11,
     "metadata": {},
     "output_type": "execute_result"
    }
   ],
   "source": [
    "random_gen = ramdom_num_ggenrator()\n",
    "[next(random_gen) for _ in range(5)]"
   ]
  },
  {
   "cell_type": "code",
   "execution_count": 12,
   "id": "91ab3095",
   "metadata": {},
   "outputs": [],
   "source": [
    "# next is an attrater cant used on the string if the 'iter' typecast can make the string itrating "
   ]
  },
  {
   "cell_type": "code",
   "execution_count": 15,
   "id": "0528d2cf",
   "metadata": {},
   "outputs": [
    {
     "ename": "SyntaxError",
     "evalue": "invalid syntax (408755220.py, line 1)",
     "output_type": "error",
     "traceback": [
      "\u001b[1;36m  File \u001b[1;32m\"C:\\Users\\NIRANJAN\\AppData\\Local\\Temp\\ipykernel_22108\\408755220.py\"\u001b[1;36m, line \u001b[1;32m1\u001b[0m\n\u001b[1;33m    [yield(100)]\u001b[0m\n\u001b[1;37m     ^\u001b[0m\n\u001b[1;31mSyntaxError\u001b[0m\u001b[1;31m:\u001b[0m invalid syntax\n"
     ]
    }
   ],
   "source": [
    "[yield(100)]"
   ]
  },
  {
   "cell_type": "code",
   "execution_count": 17,
   "id": "059e7d8f",
   "metadata": {},
   "outputs": [
    {
     "ename": "SyntaxError",
     "evalue": "invalid syntax (177979910.py, line 1)",
     "output_type": "error",
     "traceback": [
      "\u001b[1;36m  File \u001b[1;32m\"C:\\Users\\NIRANJAN\\AppData\\Local\\Temp\\ipykernel_22108\\177979910.py\"\u001b[1;36m, line \u001b[1;32m1\u001b[0m\n\u001b[1;33m    [yield random.randint(1,100)]\u001b[0m\n\u001b[1;37m     ^\u001b[0m\n\u001b[1;31mSyntaxError\u001b[0m\u001b[1;31m:\u001b[0m invalid syntax\n"
     ]
    }
   ],
   "source": [
    "[yield random.randint(1,100)]"
   ]
  },
  {
   "cell_type": "raw",
   "id": "2d34c1dd",
   "metadata": {},
   "source": [
    "# genrate prime nummber "
   ]
  },
  {
   "cell_type": "code",
   "execution_count": 22,
   "id": "a0a743ee",
   "metadata": {},
   "outputs": [],
   "source": [
    "def prime_num_grnrator():\n",
    "    num = 2\n",
    "    while True:\n",
    "        if is_prime(num):\n",
    "            yield num \n",
    "        num = num+1\n",
    "        \n",
    "def is_prime(n):\n",
    "    if n<2:\n",
    "        return False\n",
    "    for i in range(2,int(n**0.5)+1):\n",
    "                  if n% i== 0:\n",
    "                        return False\n",
    "    return True                "
   ]
  },
  {
   "cell_type": "code",
   "execution_count": 25,
   "id": "5a0cb685",
   "metadata": {},
   "outputs": [
    {
     "data": {
      "text/plain": [
       "True"
      ]
     },
     "execution_count": 25,
     "metadata": {},
     "output_type": "execute_result"
    }
   ],
   "source": [
    "is_prime(101)"
   ]
  },
  {
   "cell_type": "code",
   "execution_count": 26,
   "id": "7648380f",
   "metadata": {},
   "outputs": [],
   "source": [
    "# lambda function also called anonimmus function "
   ]
  },
  {
   "cell_type": "code",
   "execution_count": 27,
   "id": "6d23de61",
   "metadata": {},
   "outputs": [],
   "source": [
    "def add_num(x,y):\n",
    "    print(x+y)"
   ]
  },
  {
   "cell_type": "code",
   "execution_count": 28,
   "id": "4230a94d",
   "metadata": {},
   "outputs": [],
   "source": [
    "add_num  =  lambda x,y:x+y"
   ]
  },
  {
   "cell_type": "code",
   "execution_count": 29,
   "id": "6667c3cc",
   "metadata": {},
   "outputs": [
    {
     "data": {
      "text/plain": [
       "25"
      ]
     },
     "execution_count": 29,
     "metadata": {},
     "output_type": "execute_result"
    }
   ],
   "source": [
    "add_num(12,13)"
   ]
  },
  {
   "cell_type": "code",
   "execution_count": 30,
   "id": "4b671ea6",
   "metadata": {},
   "outputs": [],
   "source": [
    "is_even = lambda x:x%2==0"
   ]
  },
  {
   "cell_type": "code",
   "execution_count": 31,
   "id": "6cf15287",
   "metadata": {},
   "outputs": [
    {
     "data": {
      "text/plain": [
       "False"
      ]
     },
     "execution_count": 31,
     "metadata": {},
     "output_type": "execute_result"
    }
   ],
   "source": [
    "is_even(5)"
   ]
  },
  {
   "cell_type": "code",
   "execution_count": 32,
   "id": "efc63a2d",
   "metadata": {},
   "outputs": [],
   "source": [
    "# genrate a lambda function to get avrage of a string "
   ]
  },
  {
   "cell_type": "code",
   "execution_count": 48,
   "id": "45884c63",
   "metadata": {},
   "outputs": [],
   "source": [
    "list_1 = [1,2,3,4,5]"
   ]
  },
  {
   "cell_type": "code",
   "execution_count": 38,
   "id": "151d70ba",
   "metadata": {},
   "outputs": [
    {
     "name": "stdout",
     "output_type": "stream",
     "text": [
      "3.0\n"
     ]
    }
   ],
   "source": [
    "# sum_list = sum(list)\n",
    "# len_list = len(list) add things to the lambda\n",
    "AVR_list= lambda list:sum(list)/len(list)\n",
    "print(AVR_list(list))\n"
   ]
  },
  {
   "cell_type": "code",
   "execution_count": 39,
   "id": "25c8ebf0",
   "metadata": {},
   "outputs": [],
   "source": [
    "# map function"
   ]
  },
  {
   "cell_type": "code",
   "execution_count": 67,
   "id": "1ce26bea",
   "metadata": {},
   "outputs": [],
   "source": [
    "def square_num(x):\n",
    "    return(x**2)"
   ]
  },
  {
   "cell_type": "code",
   "execution_count": 68,
   "id": "561927b9",
   "metadata": {},
   "outputs": [
    {
     "data": {
      "text/plain": [
       "[1, 2, 3, 4, 5]"
      ]
     },
     "execution_count": 68,
     "metadata": {},
     "output_type": "execute_result"
    }
   ],
   "source": [
    "list_1"
   ]
  },
  {
   "cell_type": "code",
   "execution_count": 69,
   "id": "db61cc69",
   "metadata": {},
   "outputs": [
    {
     "ename": "TypeError",
     "evalue": "'list' object is not callable",
     "output_type": "error",
     "traceback": [
      "\u001b[1;31m---------------------------------------------------------------------------\u001b[0m",
      "\u001b[1;31mTypeError\u001b[0m                                 Traceback (most recent call last)",
      "\u001b[1;32m~\\AppData\\Local\\Temp\\ipykernel_22108\\364033007.py\u001b[0m in \u001b[0;36m<module>\u001b[1;34m\u001b[0m\n\u001b[1;32m----> 1\u001b[1;33m \u001b[0mresult\u001b[0m \u001b[1;33m=\u001b[0m \u001b[0mlist\u001b[0m\u001b[1;33m(\u001b[0m\u001b[0mmap\u001b[0m\u001b[1;33m(\u001b[0m\u001b[0msquare_num\u001b[0m\u001b[1;33m,\u001b[0m \u001b[0mlist_1\u001b[0m\u001b[1;33m)\u001b[0m\u001b[1;33m)\u001b[0m\u001b[1;33m\u001b[0m\u001b[1;33m\u001b[0m\u001b[0m\n\u001b[0m",
      "\u001b[1;31mTypeError\u001b[0m: 'list' object is not callable"
     ]
    }
   ],
   "source": [
    "result = list(map(square_num, list_1))"
   ]
  },
  {
   "cell_type": "code",
   "execution_count": 64,
   "id": "6bbd7539",
   "metadata": {},
   "outputs": [],
   "source": [
    "# filter function "
   ]
  },
  {
   "cell_type": "code",
   "execution_count": 73,
   "id": "94e48822",
   "metadata": {},
   "outputs": [
    {
     "ename": "TypeError",
     "evalue": "'list' object is not callable",
     "output_type": "error",
     "traceback": [
      "\u001b[1;31m---------------------------------------------------------------------------\u001b[0m",
      "\u001b[1;31mTypeError\u001b[0m                                 Traceback (most recent call last)",
      "\u001b[1;32m~\\AppData\\Local\\Temp\\ipykernel_22108\\194353431.py\u001b[0m in \u001b[0;36m<module>\u001b[1;34m\u001b[0m\n\u001b[0;32m      2\u001b[0m     \u001b[1;32mreturn\u001b[0m \u001b[0mx\u001b[0m\u001b[1;33m**\u001b[0m\u001b[1;36m2\u001b[0m\u001b[1;33m\u001b[0m\u001b[1;33m\u001b[0m\u001b[0m\n\u001b[0;32m      3\u001b[0m \u001b[0mlist_1\u001b[0m \u001b[1;33m=\u001b[0m \u001b[1;33m[\u001b[0m\u001b[1;36m1\u001b[0m\u001b[1;33m,\u001b[0m\u001b[1;36m2\u001b[0m\u001b[1;33m,\u001b[0m\u001b[1;36m3\u001b[0m\u001b[1;33m,\u001b[0m\u001b[1;36m4\u001b[0m\u001b[1;33m,\u001b[0m\u001b[1;36m5\u001b[0m\u001b[1;33m]\u001b[0m\u001b[1;33m\u001b[0m\u001b[1;33m\u001b[0m\u001b[0m\n\u001b[1;32m----> 4\u001b[1;33m \u001b[0mresult\u001b[0m \u001b[1;33m=\u001b[0m \u001b[0mlist\u001b[0m\u001b[1;33m(\u001b[0m\u001b[0mmap\u001b[0m\u001b[1;33m(\u001b[0m\u001b[0msquare_num\u001b[0m\u001b[1;33m,\u001b[0m \u001b[0mlist_1\u001b[0m\u001b[1;33m)\u001b[0m\u001b[1;33m)\u001b[0m\u001b[1;33m\u001b[0m\u001b[1;33m\u001b[0m\u001b[0m\n\u001b[0m\u001b[0;32m      5\u001b[0m \u001b[0mprint\u001b[0m\u001b[1;33m(\u001b[0m\u001b[0mresult\u001b[0m\u001b[1;33m)\u001b[0m\u001b[1;33m\u001b[0m\u001b[1;33m\u001b[0m\u001b[0m\n",
      "\u001b[1;31mTypeError\u001b[0m: 'list' object is not callable"
     ]
    }
   ],
   "source": [
    "def square_num(x):\n",
    "    return x**2\n",
    "list_1 = [1,2,3,4,5]\n",
    "result = list(map(square_num, list_1))\n",
    "print(result)"
   ]
  },
  {
   "cell_type": "code",
   "execution_count": 76,
   "id": "b1127005",
   "metadata": {},
   "outputs": [
    {
     "ename": "TypeError",
     "evalue": "'list' object is not callable",
     "output_type": "error",
     "traceback": [
      "\u001b[1;31m---------------------------------------------------------------------------\u001b[0m",
      "\u001b[1;31mTypeError\u001b[0m                                 Traceback (most recent call last)",
      "\u001b[1;32m~\\AppData\\Local\\Temp\\ipykernel_22108\\2776182774.py\u001b[0m in \u001b[0;36m<module>\u001b[1;34m\u001b[0m\n\u001b[1;32m----> 1\u001b[1;33m \u001b[0mlist\u001b[0m\u001b[1;33m(\u001b[0m\u001b[0mfilter\u001b[0m\u001b[1;33m(\u001b[0m\u001b[1;32mlambda\u001b[0m \u001b[0mx\u001b[0m\u001b[1;33m:\u001b[0m\u001b[0mx\u001b[0m\u001b[1;33m%\u001b[0m\u001b[1;36m2\u001b[0m \u001b[1;33m==\u001b[0m \u001b[1;36m0\u001b[0m\u001b[1;33m,\u001b[0m\u001b[0mlist_1\u001b[0m\u001b[1;33m)\u001b[0m\u001b[1;33m)\u001b[0m\u001b[1;33m\u001b[0m\u001b[1;33m\u001b[0m\u001b[0m\n\u001b[0m",
      "\u001b[1;31mTypeError\u001b[0m: 'list' object is not callable"
     ]
    }
   ],
   "source": [
    "list(filter(lambda x:x%2 == 0,list_1))"
   ]
  },
  {
   "cell_type": "code",
   "execution_count": 77,
   "id": "46c4ed1a",
   "metadata": {},
   "outputs": [],
   "source": [
    "# reduce give one outcome form the ittrable "
   ]
  },
  {
   "cell_type": "code",
   "execution_count": 80,
   "id": "73fba772",
   "metadata": {},
   "outputs": [
    {
     "data": {
      "text/plain": [
       "15"
      ]
     },
     "execution_count": 80,
     "metadata": {},
     "output_type": "execute_result"
    }
   ],
   "source": [
    "from functools import reduce\n",
    "reduce(lambda x,y:x+y,list_1)"
   ]
  },
  {
   "cell_type": "code",
   "execution_count": 81,
   "id": "62e18198",
   "metadata": {},
   "outputs": [],
   "source": [
    "# problem for customer info sorting\n"
   ]
  },
  {
   "cell_type": "code",
   "execution_count": 131,
   "id": "6f0e777b",
   "metadata": {},
   "outputs": [],
   "source": [
    "def process_custo_info(name,email,**kwargs):\n",
    "    print(f'prossesing onfo for cust {name}')\n",
    "    print(f'Email:{email}')\n",
    "    print('Additional info: ')\n",
    "    for k,v in kwargs.items():\n",
    "          print (f'{k}:{v}')\n",
    "def process_Order_items(*args):\n",
    "    print('processing order item: ')\n",
    "    for item in args:\n",
    "        print(f'{item}')\n",
    "def calculate_total_amt(*args):\n",
    "    total = 0\n",
    "    for arg in args:\n",
    "        if isinstance(args(int,float)):\n",
    "            total = total+ arg\n",
    "        else:\n",
    "            print(f'invalid item prise {args}')\n",
    "        return total\n",
    "#print a recept\n",
    "def process_order(customer_info, *items,**kwargs):\n",
    "    print(\"Order processing Initiated\")\n",
    "    process_custo_info(**customer_info)\n",
    "    process_Order_items(*items)\n",
    "    item_prise = kwargs.get(\"item_price.\",()) # this will give the priise of item \n",
    "    total_amount = calculate_total_amt()\n",
    "    print(f'total_amount: ${total_amount}')\n",
    "    print('Order processs in complet ')\n",
    "    print('-----Recept----')\n",
    "    print(f'Customer: {customer_info[\"name\"]}')"
   ]
  },
  {
   "cell_type": "code",
   "execution_count": 126,
   "id": "ac661b63",
   "metadata": {},
   "outputs": [],
   "source": [
    "customer_info = {\n",
    "    \"name\": \"John\",\n",
    "    \"email\" : \"John@xyz.com\",\n",
    "    \"pone\": 1234\n",
    "}\n",
    "items=(\"shirt\", \"Jeans\",'shouse')\n",
    "\n",
    "Order_details = {\n",
    "    \"address\" :\"xyz\",\n",
    "    \"item_prise\":(15.99,10,20)\n",
    "}"
   ]
  },
  {
   "cell_type": "code",
   "execution_count": 132,
   "id": "61e170ca",
   "metadata": {},
   "outputs": [
    {
     "name": "stdout",
     "output_type": "stream",
     "text": [
      "Order processing Initiated\n",
      "prossesing onfo for cust John\n",
      "Email:John@xyz.com\n",
      "Additional info: \n",
      "pone:1234\n",
      "processing order item: \n",
      "shirt\n",
      "Jeans\n",
      "shouse\n",
      "total_amount: $None\n",
      "Order processs in complet \n",
      "-----Recept----\n",
      "Customer: John\n"
     ]
    }
   ],
   "source": [
    "process_order(customer_info,*items,**Order_details)"
   ]
  },
  {
   "cell_type": "code",
   "execution_count": null,
   "id": "8bfa103f",
   "metadata": {},
   "outputs": [],
   "source": [
    "# needed a small debugibg about the prise "
   ]
  }
 ],
 "metadata": {
  "kernelspec": {
   "display_name": "Python 3 (ipykernel)",
   "language": "python",
   "name": "python3"
  },
  "language_info": {
   "codemirror_mode": {
    "name": "ipython",
    "version": 3
   },
   "file_extension": ".py",
   "mimetype": "text/x-python",
   "name": "python",
   "nbconvert_exporter": "python",
   "pygments_lexer": "ipython3",
   "version": "3.9.13"
  }
 },
 "nbformat": 4,
 "nbformat_minor": 5
}
