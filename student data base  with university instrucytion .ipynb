{
 "cells": [
  {
   "cell_type": "markdown",
   "id": "cebfd429",
   "metadata": {},
   "source": [
    "# # Student _data_base\n",
    "# we have the following data\n",
    "* Student_id\n",
    "* Gender\n",
    "* Department\n",
    "* Sessional_perc\n",
    "* Final_sem marks\n",
    "* Backlogs"
   ]
  },
  {
   "cell_type": "code",
   "execution_count": 32,
   "id": "94e2bd0a",
   "metadata": {},
   "outputs": [],
   "source": [
    "student_ides = ['S01','S02','S03','S04','S05']\n",
    "gender = ['M','F','F', 'M', 'F']\n",
    "dept = ['CS', 'CS', 'ME', 'CS','ME']\n",
    "Sessional_pers = [45,60,73,65.3,71.9]\n",
    "total_marks  = [680,800,520,650,760]\n",
    "Backlogs = [1,0,1,0,1]"
   ]
  },
  {
   "cell_type": "markdown",
   "id": "fbf487cf",
   "metadata": {},
   "source": [
    "# We have a requirement that student has more than 70% incerase their marks by 2%"
   ]
  },
  {
   "cell_type": "code",
   "execution_count": 18,
   "id": "139c565c",
   "metadata": {},
   "outputs": [
    {
     "name": "stdout",
     "output_type": "stream",
     "text": [
      "[45, 60, 73, 65.3, 71.9]\n",
      "0 Marks did not change\n",
      "1 Marks did not change\n",
      "2 73 marks are chaned \n",
      "3 Marks did not change\n",
      "4 71.9 marks are chaned \n"
     ]
    }
   ],
   "source": [
    "print(Sessional_pers)\n",
    "for i in range(len(student_ides)):\n",
    "    \n",
    "    if Sessional_pers[i]>70:\n",
    "        print(i,Sessional_pers[i],\"marks are chaned \")\n",
    "        total_marks[i]= total_marks[i]+total_marks[i]*0.02\n",
    "    else:\n",
    "        print(i,\"Marks did not change\")\n"
   ]
  },
  {
   "cell_type": "code",
   "execution_count": 9,
   "id": "300d5503",
   "metadata": {},
   "outputs": [
    {
     "data": {
      "text/plain": [
       "[680, 800, 562.8647232, 650, 873.0011074134528]"
      ]
     },
     "execution_count": 9,
     "metadata": {},
     "output_type": "execute_result"
    }
   ],
   "source": [
    "total_marks # this is the updated marks "
   ]
  },
  {
   "cell_type": "code",
   "execution_count": 10,
   "id": "281147f1",
   "metadata": {},
   "outputs": [],
   "source": [
    "# studen S01 and S04 have got  backlog."
   ]
  },
  {
   "cell_type": "code",
   "execution_count": 12,
   "id": "69f8d9f1",
   "metadata": {},
   "outputs": [],
   "source": [
    "updated_students =['S01','S04']"
   ]
  },
  {
   "cell_type": "code",
   "execution_count": 24,
   "id": "7fd034ed",
   "metadata": {},
   "outputs": [],
   "source": [
    "Backlogs = [1,0,1,0,1]"
   ]
  },
  {
   "cell_type": "code",
   "execution_count": 26,
   "id": "c3dc01c7",
   "metadata": {},
   "outputs": [
    {
     "name": "stdout",
     "output_type": "stream",
     "text": [
      "for loop taken i val = 0\n",
      "[1, 0, 1, 0, 1]\n",
      "ckeakinng the condition for the marks updattion S01\n",
      "0 in the loop\n",
      "for loop taken i val = 1\n",
      "['b', 0, 1, 0, 1]\n",
      "for loop taken i val = 2\n",
      "['b', 0, 1, 0, 1]\n",
      "for loop taken i val = 3\n",
      "['b', 0, 1, 0, 1]\n",
      "ckeakinng the condition for the marks updattion S04\n",
      "3 in the loop\n",
      "for loop taken i val = 4\n",
      "['b', 0, 1, 'b', 1]\n"
     ]
    }
   ],
   "source": [
    "\n",
    "for i in range (len(student_ides)):\n",
    "    print(\"for loop taken i val =\",i)\n",
    "    print(Backlogs)\n",
    "    if student_ides[i] in updated_students:\n",
    "        print('ckeakinng the condition for the marks updattion',student_ides[i])\n",
    "        print(i, \"in the loop\")\n",
    "        Backlogs[i] ='b'"
   ]
  },
  {
   "cell_type": "code",
   "execution_count": 27,
   "id": "e26d13b8",
   "metadata": {},
   "outputs": [
    {
     "data": {
      "text/plain": [
       "['b', 0, 1, 'b', 1]"
      ]
     },
     "execution_count": 27,
     "metadata": {},
     "output_type": "execute_result"
    }
   ],
   "source": [
    " Backlogs"
   ]
  },
  {
   "cell_type": "markdown",
   "id": "fb04fc64",
   "metadata": {},
   "source": [
    "# #If a student's total marks is greater than 750 and they have no backlog and they are from CS dept, they will receive a 'High Achiever Scholarship'.\n",
    "\n",
    "If a student has no backlog and has marks between 650 and 720, they will receive 'Achiever Scholarshi"
   ]
  },
  {
   "cell_type": "code",
   "execution_count": 33,
   "id": "a8baacc0",
   "metadata": {},
   "outputs": [],
   "source": [
    "Backlogs = [1,0,1,0,1]"
   ]
  },
  {
   "cell_type": "code",
   "execution_count": 34,
   "id": "7feabe04",
   "metadata": {},
   "outputs": [
    {
     "name": "stdout",
     "output_type": "stream",
     "text": [
      " condition worked on thhe index, 1\n"
     ]
    }
   ],
   "source": [
    "High_Achiever_Scholarship = []\n",
    "for i in range(len(student_ides)):\n",
    "    if total_marks[i]>750 and Backlogs[i]!= \"b\" and dept[i] == \"CS\":\n",
    "        High_Achiever_Scholarship.append(student_ides[i])\n",
    "        print(' condition worked on thhe index,' , i)\n",
    "    "
   ]
  },
  {
   "cell_type": "markdown",
   "id": "e61f7191",
   "metadata": {},
   "source": [
    "# using the list comprihension "
   ]
  },
  {
   "cell_type": "code",
   "execution_count": 37,
   "id": "6a1463bc",
   "metadata": {},
   "outputs": [],
   "source": [
    "Scolarship =[\"No Scholarshhip\" for _ in range (len(student_ides))]"
   ]
  },
  {
   "cell_type": "code",
   "execution_count": 38,
   "id": "adcbcadf",
   "metadata": {},
   "outputs": [
    {
     "data": {
      "text/plain": [
       "['No Scholarshhip',\n",
       " 'No Scholarshhip',\n",
       " 'No Scholarshhip',\n",
       " 'No Scholarshhip',\n",
       " 'No Scholarshhip']"
      ]
     },
     "execution_count": 38,
     "metadata": {},
     "output_type": "execute_result"
    }
   ],
   "source": [
    "Scolarship"
   ]
  },
  {
   "cell_type": "code",
   "execution_count": null,
   "id": "c08c247d",
   "metadata": {},
   "outputs": [],
   "source": []
  }
 ],
 "metadata": {
  "kernelspec": {
   "display_name": "Python 3 (ipykernel)",
   "language": "python",
   "name": "python3"
  },
  "language_info": {
   "codemirror_mode": {
    "name": "ipython",
    "version": 3
   },
   "file_extension": ".py",
   "mimetype": "text/x-python",
   "name": "python",
   "nbconvert_exporter": "python",
   "pygments_lexer": "ipython3",
   "version": "3.9.13"
  }
 },
 "nbformat": 4,
 "nbformat_minor": 5
}
