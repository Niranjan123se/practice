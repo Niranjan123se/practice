{
 "cells": [
  {
   "cell_type": "markdown",
   "id": "42cc131c",
   "metadata": {},
   "source": [
    "#String concatination "
   ]
  },
  {
   "cell_type": "code",
   "execution_count": null,
   "id": "e0780ff7",
   "metadata": {},
   "outputs": [],
   "source": [
    "import string # this is a library for the tweets cleaning "
   ]
  },
  {
   "cell_type": "code",
   "execution_count": 4,
   "id": "2b47b65e",
   "metadata": {},
   "outputs": [],
   "source": [
    "str1 = \"hello\"\n",
    "str2 =\"worls\"\n",
    "final_str = str1 + \" \" + str2 "
   ]
  },
  {
   "cell_type": "code",
   "execution_count": 5,
   "id": "911fcc0b",
   "metadata": {},
   "outputs": [
    {
     "data": {
      "text/plain": [
       "'hello worls'"
      ]
     },
     "execution_count": 5,
     "metadata": {},
     "output_type": "execute_result"
    }
   ],
   "source": [
    "final_str"
   ]
  },
  {
   "cell_type": "code",
   "execution_count": 6,
   "id": "c236f14e",
   "metadata": {},
   "outputs": [
    {
     "data": {
      "text/plain": [
       "11"
      ]
     },
     "execution_count": 6,
     "metadata": {},
     "output_type": "execute_result"
    }
   ],
   "source": [
    "len(final_str)"
   ]
  },
  {
   "cell_type": "code",
   "execution_count": 7,
   "id": "6a45bd24",
   "metadata": {},
   "outputs": [
    {
     "data": {
      "text/plain": [
       "'slrow olleh'"
      ]
     },
     "execution_count": 7,
     "metadata": {},
     "output_type": "execute_result"
    }
   ],
   "source": [
    "final_str[::-1]"
   ]
  },
  {
   "cell_type": "code",
   "execution_count": 8,
   "id": "ad92b127",
   "metadata": {},
   "outputs": [
    {
     "data": {
      "text/plain": [
       "'s'"
      ]
     },
     "execution_count": 8,
     "metadata": {},
     "output_type": "execute_result"
    }
   ],
   "source": [
    "final_str[-1]"
   ]
  },
  {
   "cell_type": "raw",
   "id": "dec290db",
   "metadata": {},
   "source": [
    "when we are in doubt then code it out dont imagine for the result when you can print it "
   ]
  },
  {
   "cell_type": "raw",
   "id": "48213458",
   "metadata": {},
   "source": [
    "when we work with the strings then we need to standadize thhe string so we can work "
   ]
  },
  {
   "cell_type": "code",
   "execution_count": 10,
   "id": "4fa98674",
   "metadata": {},
   "outputs": [
    {
     "data": {
      "text/plain": [
       "False"
      ]
     },
     "execution_count": 10,
     "metadata": {},
     "output_type": "execute_result"
    }
   ],
   "source": [
    "final_str.isupper() # this will cheack all the letters/chars are upper or not"
   ]
  },
  {
   "cell_type": "code",
   "execution_count": 11,
   "id": "bf6a6192",
   "metadata": {},
   "outputs": [
    {
     "data": {
      "text/plain": [
       "'HELLO WORLS'"
      ]
     },
     "execution_count": 11,
     "metadata": {},
     "output_type": "execute_result"
    }
   ],
   "source": [
    "final_str.upper() # this will be done only at the cell level specific outcome. this will not change the main string.  to change the main string we have reassign to the main string "
   ]
  },
  {
   "cell_type": "code",
   "execution_count": 12,
   "id": "3626b8d3",
   "metadata": {},
   "outputs": [
    {
     "data": {
      "text/plain": [
       "'hello worls'"
      ]
     },
     "execution_count": 12,
     "metadata": {},
     "output_type": "execute_result"
    }
   ],
   "source": [
    "final_str # as expalined inn above "
   ]
  },
  {
   "cell_type": "code",
   "execution_count": 13,
   "id": "c398c4a3",
   "metadata": {},
   "outputs": [
    {
     "data": {
      "text/plain": [
       "'Hello worls'"
      ]
     },
     "execution_count": 13,
     "metadata": {},
     "output_type": "execute_result"
    }
   ],
   "source": [
    "final_str.capitalize()"
   ]
  },
  {
   "cell_type": "code",
   "execution_count": 14,
   "id": "2c3408b7",
   "metadata": {},
   "outputs": [
    {
     "data": {
      "text/plain": [
       "'HELLO WORLS'"
      ]
     },
     "execution_count": 14,
     "metadata": {},
     "output_type": "execute_result"
    }
   ],
   "source": [
    "final_str.upper()"
   ]
  },
  {
   "cell_type": "code",
   "execution_count": 15,
   "id": "2cf6bfff",
   "metadata": {},
   "outputs": [
    {
     "data": {
      "text/plain": [
       "'Hello Worls'"
      ]
     },
     "execution_count": 15,
     "metadata": {},
     "output_type": "execute_result"
    }
   ],
   "source": [
    "final_str.title()"
   ]
  },
  {
   "cell_type": "code",
   "execution_count": 19,
   "id": "3bed9bf0",
   "metadata": {},
   "outputs": [
    {
     "data": {
      "text/plain": [
       "'hello Everyone'"
      ]
     },
     "execution_count": 19,
     "metadata": {},
     "output_type": "execute_result"
    }
   ],
   "source": [
    "final_str.replace(\"worls\",\"Everyone\") # this will be used in explotari data analysis"
   ]
  },
  {
   "cell_type": "code",
   "execution_count": 20,
   "id": "f2a75810",
   "metadata": {},
   "outputs": [],
   "source": [
    "final_str= \"   Hello Worls     \""
   ]
  },
  {
   "cell_type": "code",
   "execution_count": 21,
   "id": "3eb5161d",
   "metadata": {},
   "outputs": [
    {
     "data": {
      "text/plain": [
       "'Hello Worls'"
      ]
     },
     "execution_count": 21,
     "metadata": {},
     "output_type": "execute_result"
    }
   ],
   "source": [
    "final_str.strip() # this will remove the all leading and laging space"
   ]
  },
  {
   "cell_type": "code",
   "execution_count": 27,
   "id": "f1ae6b19",
   "metadata": {},
   "outputs": [],
   "source": [
    "new_string =\"this is a good day to learn data science\""
   ]
  },
  {
   "cell_type": "code",
   "execution_count": 28,
   "id": "c116fc17",
   "metadata": {},
   "outputs": [],
   "source": [
    "str_list = new_string.split() # this will convert the string to a list seprated by the space to join we can use the join space "
   ]
  },
  {
   "cell_type": "code",
   "execution_count": 29,
   "id": "d93ce19e",
   "metadata": {},
   "outputs": [
    {
     "data": {
      "text/plain": [
       "['this', 'is', 'a', 'good', 'day', 'to', 'learn', 'data', 'science']"
      ]
     },
     "execution_count": 29,
     "metadata": {},
     "output_type": "execute_result"
    }
   ],
   "source": [
    "str_list"
   ]
  },
  {
   "cell_type": "code",
   "execution_count": 30,
   "id": "595dbf41",
   "metadata": {},
   "outputs": [
    {
     "data": {
      "text/plain": [
       "'this is a good day to learn data science'"
      ]
     },
     "execution_count": 30,
     "metadata": {},
     "output_type": "execute_result"
    }
   ],
   "source": [
    "\" \".join(str_list)"
   ]
  },
  {
   "cell_type": "code",
   "execution_count": 35,
   "id": "9ebc7b58",
   "metadata": {},
   "outputs": [
    {
     "name": "stdout",
     "output_type": "stream",
     "text": [
      "hello,Jack!\n",
      "hello,jack\n",
      "hello jack\n"
     ]
    }
   ],
   "source": [
    "#strign formating \n",
    "name =\"jack\"\n",
    "print('hello,%s!'%name.title())\n",
    "print(f'hello,{name}')#f strng \n",
    "print('hello {}'. format(name))"
   ]
  },
  {
   "cell_type": "code",
   "execution_count": 36,
   "id": "03fb90c2",
   "metadata": {},
   "outputs": [
    {
     "name": "stdout",
     "output_type": "stream",
     "text": [
      "5 and 6 = 11 \n"
     ]
    }
   ],
   "source": [
    "a=5\n",
    "b=6\n",
    "c=a+b\n",
    "print(f'{a} and {b} = {c} ')"
   ]
  },
  {
   "cell_type": "code",
   "execution_count": 37,
   "id": "a44db319",
   "metadata": {},
   "outputs": [],
   "source": [
    "tweets = [\n",
    "    {\"username\": \"user1\", \"timestamp\": \"2023-05-01 12:30\", \"likes\": 12, \"retweets\": 4, \"text\": \"I love this game!!! #GameBrand\"},\n",
    "    {\"username\": \"user2\", \"timestamp\": \"2023-05-01 13:15\", \"likes\": 45, \"retweets\": 5, \"text\": \"I can't believe how bad this game is... #GameBrand #Disappointed\"},\n",
    "    {\"username\": \"user3\", \"timestamp\": \"2023-05-01 13:47\", \"likes\": 23, \"retweets\": 2, \"text\": \"What a great game! #GameBrand #Fun\"},\n",
    "    {\"username\": \"user4\", \"timestamp\": \"2023-05-01 14:05\", \"likes\": 78, \"retweets\": 7, \"text\": \"This game is too difficult. #GameBrand #Frustrated\"},\n",
    "    {\"username\": \"user5\", \"timestamp\": \"2023-05-01 14:23\", \"likes\": 45, \"retweets\": 5, \"text\": \"I can't stop playing this game! #GameBrand #Addicted\"},\n",
    "    {\"username\": \"user6\", \"timestamp\": \"2023-05-01 15:00\", \"likes\": 67, \"retweets\": 6, \"text\": \"The graphics in this game are amazing. #GameBrand #Impressed\"},\n",
    "    {\"username\": \"user7\", \"timestamp\": \"2023-05-01 15:30\", \"likes\": 34, \"retweets\": 3, \"text\": \"I wish this game had better controls. #GameBrand #Frustrated\"},\n",
    "    {\"username\": \"user8\", \"timestamp\": \"2023-05-01 16:00\", \"likes\": 23, \"retweets\": 2, \"text\": \"This game is a waste of money. #GameBrand #Disappointed\"},\n",
    "    {\"username\": \"user9\", \"timestamp\": \"2023-05-01 16:45\", \"likes\": 56, \"retweets\": 5, \"text\": \"I can't wait for the sequel! #GameBrand #Excited\"},\n",
    "    {\"username\": \"user10\", \"timestamp\": \"2023-05-01 17:00\", \"likes\": 78, \"retweets\": 7, \"text\": \"This game has too many bugs. #GameBrand #Frustrated\"}\n",
    "]"
   ]
  },
  {
   "cell_type": "code",
   "execution_count": 38,
   "id": "b80d17ff",
   "metadata": {},
   "outputs": [],
   "source": [
    "# clean the tweets"
   ]
  },
  {
   "cell_type": "code",
   "execution_count": 42,
   "id": "634a98d8",
   "metadata": {},
   "outputs": [],
   "source": [
    "for i in range(len(tweets)):\n",
    "    for tw in tweets:\n",
    "        text = tweets[i]['text'].lower().strip()\n",
    "#         print(text)"
   ]
  },
  {
   "cell_type": "code",
   "execution_count": 44,
   "id": "3e47563c",
   "metadata": {},
   "outputs": [],
   "source": [
    "for i in range(len(tweets)):\n",
    "    for tw in tweets:\n",
    "        text = tweets[i]['text'].split()\n",
    "#         print(text)"
   ]
  },
  {
   "cell_type": "code",
   "execution_count": 45,
   "id": "724ecee5",
   "metadata": {},
   "outputs": [],
   "source": [
    "# we need to add the word selection and altration "
   ]
  },
  {
   "cell_type": "code",
   "execution_count": null,
   "id": "d455cf7f",
   "metadata": {},
   "outputs": [],
   "source": []
  }
 ],
 "metadata": {
  "kernelspec": {
   "display_name": "Python 3 (ipykernel)",
   "language": "python",
   "name": "python3"
  },
  "language_info": {
   "codemirror_mode": {
    "name": "ipython",
    "version": 3
   },
   "file_extension": ".py",
   "mimetype": "text/x-python",
   "name": "python",
   "nbconvert_exporter": "python",
   "pygments_lexer": "ipython3",
   "version": "3.9.13"
  }
 },
 "nbformat": 4,
 "nbformat_minor": 5
}
